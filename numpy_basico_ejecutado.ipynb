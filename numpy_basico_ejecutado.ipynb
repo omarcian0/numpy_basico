{
  "cells": [
    {
      "cell_type": "markdown",
      "metadata": {
        "id": "DZgY9RtkA4AO"
      },
      "source": [
        "# Numpy\n",
        "\n",
        "¿Cuál es el hype de Numpy?\n",
        "\n",
        "Hemos mencionado que es una paquetería utilizada ampliamente en la industria, pero ¿qué la hace tan especial?\n",
        "\n",
        "Comencemos explorando el objeto principal de Numpy: el `ndarray`.\n",
        "\n",
        "## `ndarray`\n",
        "**Un ndarray (N-dimensional array) es la estructura de datos principal de NumPy que permite almacenar y manipular arrays (arreglos) multidimensionales de forma eficiente. Proporciona operaciones rápidas y flexibles para realizar cálculos numéricos y transformaciones en grandes conjuntos de datos.**\n",
        "\n",
        "En un ndarray podemos almacenar elementos de un mismo tipo de dato. Aquí uno podría preguntarse\n",
        "\n",
        "**¿cuál es la ventaja o el beneficio de usar un ndarray de Numpy sobre una lista ordinaria de Python?**\n",
        "\n",
        "Numpy tiene ventajas significativas sobre listas ordinarias, descubrámoslas con ejemplos prácticos\n",
        "\n",
        "---\n",
        "\n",
        "## Crear un arreglo de Numpy\n",
        "Hay más de una forma (como es costumbre en Python) para crear un array. La más común es pasarle una lista a la función `np.array`"
      ]
    },
    {
      "cell_type": "code",
      "execution_count": 36,
      "metadata": {
        "id": "Ft6NtUIGA4AP"
      },
      "outputs": [],
      "source": [
        "#Importamos numpy como np (SIEMPRE)\n",
        "import numpy as np"
      ]
    },
    {
      "cell_type": "code",
      "execution_count": 37,
      "metadata": {
        "colab": {
          "base_uri": "https://localhost:8080/"
        },
        "id": "MP_XG08FA4AQ",
        "outputId": "8acd7e33-5f2e-4506-ca61-1a150370109b"
      },
      "outputs": [
        {
          "output_type": "execute_result",
          "data": {
            "text/plain": [
              "numpy.ndarray"
            ]
          },
          "metadata": {},
          "execution_count": 37
        }
      ],
      "source": [
        "lista = [0,1,2,3,4]\n",
        "array_1d = np.array(lista)\n",
        "\n",
        "#Checamos el tipo de dato de array_id\n",
        "type(array_1d)"
      ]
    },
    {
      "cell_type": "code",
      "execution_count": 38,
      "metadata": {
        "colab": {
          "base_uri": "https://localhost:8080/"
        },
        "id": "PSVX1kikA4AQ",
        "outputId": "2cd655b0-3fb6-44a7-cb6a-c4b426a20d41"
      },
      "outputs": [
        {
          "output_type": "execute_result",
          "data": {
            "text/plain": [
              "float"
            ]
          },
          "metadata": {},
          "execution_count": 38
        }
      ],
      "source": [
        "type(1.2)"
      ]
    },
    {
      "cell_type": "code",
      "execution_count": 39,
      "metadata": {
        "colab": {
          "base_uri": "https://localhost:8080/"
        },
        "id": "Z8PTCjBAA4AQ",
        "outputId": "3760adad-7a4b-4612-f999-f1a12baa9a30"
      },
      "outputs": [
        {
          "output_type": "execute_result",
          "data": {
            "text/plain": [
              "array([0, 1, 2, 3, 4])"
            ]
          },
          "metadata": {},
          "execution_count": 39
        }
      ],
      "source": [
        "#contenido del array\n",
        "array_1d"
      ]
    },
    {
      "cell_type": "markdown",
      "metadata": {
        "id": "ulprkpOiA4AQ"
      },
      "source": [
        "## Diferencia entre ndarray y lista"
      ]
    },
    {
      "cell_type": "markdown",
      "metadata": {
        "id": "12_DGrlbA4AQ"
      },
      "source": [
        "La diferencia principal entre un `array` y una `list` es que los `arrays` están diseñados para procesar operaciones vectorizadas, mientras que una lista no tiene estas capacidades.\n",
        "\n",
        "Sea $\\vec{x}$ un vector tal que $\\vec{x} = (0 , 1, 2, 3, 4)$\n",
        "\n",
        "$$\\vec{x} + a = (0 + a, 1 + a, 2 + a, 3 + a, 4 + a)$$\n",
        "\n",
        "Entonces, si $a = 2$\n",
        "$$ \\vec{x} + 2 = (0 +2, 1 + 2, 2 + 2, 3 + 2, 4 + 2) $$\n",
        "$$ \\vec{x} + 2 = (2, 3, 4, 5, 6) $$\n",
        "\n",
        "Esto significa que si aplicamos una función a un `array` entonces la función se va a aplicar a **cada elemento del array**\n",
        "\n",
        "Veamos un ejemplo:\n",
        "\n",
        "Si quisieramos sumar 2 a cada elemento de la `lista`, intuitivamente podríamos intentar:"
      ]
    },
    {
      "cell_type": "code",
      "execution_count": 40,
      "metadata": {
        "colab": {
          "base_uri": "https://localhost:8080/"
        },
        "id": "mKScJCGMA4AQ",
        "outputId": "0d3939b0-a919-4aeb-aa33-07d1722d342e"
      },
      "outputs": [
        {
          "output_type": "execute_result",
          "data": {
            "text/plain": [
              "[0, 1, 2, 3, 4]"
            ]
          },
          "metadata": {},
          "execution_count": 40
        }
      ],
      "source": [
        "lista"
      ]
    },
    {
      "cell_type": "code",
      "execution_count": 41,
      "metadata": {
        "colab": {
          "base_uri": "https://localhost:8080/",
          "height": 144
        },
        "id": "9WQlYACfA4AQ",
        "outputId": "95372ae4-6073-42ff-d2a6-a22ffd664355"
      },
      "outputs": [
        {
          "output_type": "error",
          "ename": "TypeError",
          "evalue": "can only concatenate list (not \"int\") to list",
          "traceback": [
            "\u001b[0;31m---------------------------------------------------------------------------\u001b[0m",
            "\u001b[0;31mTypeError\u001b[0m                                 Traceback (most recent call last)",
            "\u001b[0;32m/tmp/ipython-input-3290462167.py\u001b[0m in \u001b[0;36m<cell line: 0>\u001b[0;34m()\u001b[0m\n\u001b[0;32m----> 1\u001b[0;31m \u001b[0mlista\u001b[0m \u001b[0;34m+\u001b[0m \u001b[0;36m2\u001b[0m\u001b[0;34m\u001b[0m\u001b[0;34m\u001b[0m\u001b[0m\n\u001b[0m",
            "\u001b[0;31mTypeError\u001b[0m: can only concatenate list (not \"int\") to list"
          ]
        }
      ],
      "source": [
        "lista + 2"
      ]
    },
    {
      "cell_type": "markdown",
      "metadata": {
        "id": "iX98VEYAA4AQ"
      },
      "source": [
        "Como podemos ver, no es posible hacer esto con listas. Probemos ahora con `array_1d`"
      ]
    },
    {
      "cell_type": "code",
      "execution_count": 57,
      "metadata": {
        "colab": {
          "base_uri": "https://localhost:8080/"
        },
        "id": "m7mvUJcDA4AR",
        "outputId": "64f548e6-6cf7-4962-f0a7-fd063546bddf"
      },
      "outputs": [
        {
          "output_type": "execute_result",
          "data": {
            "text/plain": [
              "array([2, 3, 4, 5, 6])"
            ]
          },
          "metadata": {},
          "execution_count": 57
        }
      ],
      "source": [
        "array_1d + 2"
      ]
    },
    {
      "cell_type": "code",
      "metadata": {
        "id": "a3fce650"
      },
      "source": [
        "# Using a list comprehension to add 2 to each element in the list\n",
        "lista_sumada = [x + 2 for x in lista]\n",
        "print(lista_sumada)"
      ],
      "execution_count": null,
      "outputs": []
    },
    {
      "cell_type": "markdown",
      "metadata": {
        "id": "jSgiXJ81A4AR"
      },
      "source": [
        "---"
      ]
    },
    {
      "cell_type": "markdown",
      "metadata": {
        "id": "L5UG7kIyA4AR"
      },
      "source": [
        "### Otro ejemplo: Multiplicación de matrices\n",
        "\n",
        "Veamos una multiplicación de matrices con Numpy.\n",
        "\n",
        "$A=\\begin{bmatrix}\n",
        "1 & 2 & 3 \\\\\n",
        "4 & 5 & 6\n",
        "\\end{bmatrix}$ , $B=\\begin{bmatrix}\n",
        "7 & 8 \\\\\n",
        "9 & 10 \\\\\n",
        "11 & 12\n",
        "\\end{bmatrix}$\n",
        "\n",
        "Recordemos de la materia de Álgebra Lineal que:\n",
        "Sean A y B, 2 matrices\n",
        "\n",
        "$\\begin{bmatrix}\n",
        "a_{11} & a_{12} & a_{13} \\\\\n",
        "a_{21} & a_{22} & a_{23}\n",
        "\\end{bmatrix}\n",
        "\\begin{bmatrix}\n",
        "b_{11} & b_{12} \\\\\n",
        "b_{21} & b_{22} \\\\\n",
        "b_{31} & b_{32}\n",
        "\\end{bmatrix}\n",
        "=\n",
        "\\begin{bmatrix}\n",
        "a_{11}b_{11} + a_{12}b_{21} + a_{13}b_{31} & a_{11}b_{12} + a_{12}b_{22} + a_{13}b_{32} \\\\\n",
        "a_{21}b_{11} + a_{22}b_{21} + a_{23}b_{31} & a_{21}b_{12} + a_{22}b_{22} + a_{23}b_{32}\n",
        "\\end{bmatrix}$\n",
        "\n",
        "---\n",
        "\n",
        "Antes de apreciar la **BELLEZA** de Numpy, hagamos una implementación de multiplicación de matrices sin utilizar numpy:"
      ]
    },
    {
      "cell_type": "code",
      "execution_count": 58,
      "metadata": {
        "colab": {
          "base_uri": "https://localhost:8080/"
        },
        "id": "bBVWPM--A4AR",
        "outputId": "71bb0561-1f46-4ca5-9a5a-31d012306947"
      },
      "outputs": [
        {
          "output_type": "stream",
          "name": "stdout",
          "text": [
            "[[58, 64], [139, 154]]\n"
          ]
        }
      ],
      "source": [
        "def multiplicar_matrices(A, B):\n",
        "    # obtener dimensiones\n",
        "    filas_A = len(A)\n",
        "    cols_A = len(A[0])\n",
        "    filas_B = len(B)\n",
        "    cols_B = len(B[0])\n",
        "\n",
        "    # checar si se pueden multiplicar A y B\n",
        "    if cols_A != filas_B:\n",
        "        raise ValueError(\"El número de columnas de A debe ser igual al número de filas de B\")\n",
        "\n",
        "    # Inicializar una matriz vacía con ceros\n",
        "    matriz_resultado = []\n",
        "    for _ in range(filas_A):\n",
        "        fila = []\n",
        "        for _ in range(cols_B):\n",
        "            fila.append(0)\n",
        "        matriz_resultado.append(fila)\n",
        "\n",
        "    # realizar multiplicación\n",
        "    for i in range(filas_A):\n",
        "        for j in range(cols_B):\n",
        "            for k in range(cols_A):\n",
        "                matriz_resultado[i][j] += A[i][k] * B[k][j]\n",
        "\n",
        "    return matriz_resultado\n",
        "\n",
        "# Ejemplo\n",
        "A = [\n",
        "    [1, 2, 3],\n",
        "    [4, 5, 6]\n",
        "]\n",
        "B = [\n",
        "    [7, 8],\n",
        "    [9, 10],\n",
        "    [11, 12]\n",
        "]\n",
        "C = multiplicar_matrices(A, B)\n",
        "print(C)"
      ]
    },
    {
      "cell_type": "markdown",
      "metadata": {
        "id": "2JeTeqsOA4AR"
      },
      "source": [
        "**¿Nada mal no?**\n",
        "\n",
        "Y de hecho se ejecutó bastante rápido… Pongámosle más estrés a Python con multiplicaciones de matrices más grandes, y contemos cuánto tarda en multiplicar cada una de ellas:\n",
        "\n",
        "### Función para crear una matriz de NxN con números aleatorios"
      ]
    },
    {
      "cell_type": "code",
      "execution_count": 59,
      "metadata": {
        "colab": {
          "base_uri": "https://localhost:8080/"
        },
        "id": "4ComHOcKA4AR",
        "outputId": "eeb3e132-f464-4a88-89f4-877499dd447c"
      },
      "outputs": [
        {
          "output_type": "stream",
          "name": "stdout",
          "text": [
            "[4, 7, 9, 4, 5]\n",
            "[3, 2, 8, 8, 1]\n",
            "[3, 8, 5, 1, 3]\n",
            "[9, 5, 7, 9, 1]\n",
            "[6, 9, 4, 2, 4]\n"
          ]
        }
      ],
      "source": [
        "import random\n",
        "\n",
        "def generar_matriz_aleatoria(N):\n",
        "    matriz = []\n",
        "    for i in range(N):\n",
        "        fila = []\n",
        "        for j in range(N):\n",
        "            fila.append(random.randint(1, 9))\n",
        "        matriz.append(fila)\n",
        "    return matriz\n",
        "\n",
        "\n",
        "N = 5\n",
        "matriz_aleatoria = generar_matriz_aleatoria(N)\n",
        "for fila in matriz_aleatoria:\n",
        "    print(fila)"
      ]
    },
    {
      "cell_type": "markdown",
      "metadata": {
        "id": "mMfF1DvTA4AR"
      },
      "source": [
        "### Función para imprimir una matriz en formato amigable"
      ]
    },
    {
      "cell_type": "code",
      "execution_count": 60,
      "metadata": {
        "id": "8KdpR_spA4AR"
      },
      "outputs": [],
      "source": [
        "def imprimir_matriz(matriz):\n",
        "    for fila in matriz:\n",
        "        fila_formateada = ' '.join(f'{elemento:2}' for elemento in fila)\n",
        "        print(fila_formateada)"
      ]
    },
    {
      "cell_type": "markdown",
      "metadata": {
        "id": "-SHagkUzA4AR"
      },
      "source": [
        "### Creación e impresión de las matrices"
      ]
    },
    {
      "cell_type": "code",
      "execution_count": 61,
      "metadata": {
        "colab": {
          "base_uri": "https://localhost:8080/"
        },
        "id": "dCy9i1n4A4AR",
        "outputId": "e0699b56-b452-48ab-da9d-653ba0e07a50"
      },
      "outputs": [
        {
          "output_type": "stream",
          "name": "stdout",
          "text": [
            "Matríz de 5x5:\n",
            " 7  6  3  2  8\n",
            " 5  1  7  8  6\n",
            " 9  1  3  2  9\n",
            " 1  9  1  5  1\n",
            " 9  1  7  9  6\n",
            "====================\n",
            "Matríz de 10x10:\n",
            " 5  2  2  8  6  8  4  9  2  9\n",
            " 3  8  4  8  2  7  3  4  3  9\n",
            " 3  1  6  6  4  4  3  5  8  4\n",
            " 4  3  4  2  3  7  8  2  1  2\n",
            " 6  9  2  6  2  7  9  5  6  6\n",
            " 1  8  3  6  1  8  2  4  6  1\n",
            " 3  1  4  2  5  9  4  7  7  4\n",
            " 8  1  9  4  2  9  8  1  4  9\n",
            " 3  6  9  2  5  3  2  5  6  9\n",
            " 4  2  9  6  7  3  1  4  1  6\n",
            "====================\n",
            "Matríz de 20x20:\n",
            " 2  1  8  5  3  9  6  3  7  3  4  7  6  8  5  4  9  8  8  5\n",
            " 2  6  7  2  8  4  4  2  4  8  9  3  5  3  4  1  4  5  1  6\n",
            " 4  4  4  4  5  1  2  5  6  1  5  1  1  3  9  2  2  4  7  4\n",
            " 7  8  1  6  8  1  6  4  3  1  2  2  5  7  2  9  9  2  8  8\n",
            " 2  2  6  1  4  5  3  4  6  6  4  3  5  5  6  8  8  4  8  6\n",
            " 9  1  3  1  3  3  3  5  7  6  3  1  3  9  2  7  1  2  2  2\n",
            " 6  8  8  4  1  4  5  5  1  8  9  1  4  3  5  3  5  4  9  7\n",
            " 3  6  7  7  5  9  7  6  2  1  9  6  1  7  4  8  7  4  4  3\n",
            " 7  5  5  3  4  5  1  7  4  2  4  4  8  1  9  7  4  8  9  5\n",
            " 6  4  7  8  7  8  4  8  2  2  4  3  3  8  5  3  1  3  1  1\n",
            " 9  8  4  2  3  8  9  2  3  8  1  9  4  8  8  3  3  9  9  5\n",
            " 6  2  3  4  9  7  1  5  8  8  6  6  9  4  8  8  3  1  2  1\n",
            " 4  3  5  3  6  8  9  8  9  1  8  7  1  2  7  4  1  5  8  4\n",
            " 3  1  8  3  6  4  2  8  1  7  4  3  9  3  5  7  3  8  9  7\n",
            " 4  4  2  3  5  1  4  5  4  4  7  5  3  8  7  6  7  3  9  4\n",
            " 3  8  7  6  8  6  8  8  6  2  7  6  6  4  1  9  5  3  4  2\n",
            " 8  3  8  7  4  8  8  7  2  5  7  4  7  8  4  9  8  9  6  3\n",
            " 3  3  6  8  6  8  7  4  1  4  8  1  7  3  1  8  3  5  5  3\n",
            " 2  8  2  9  3  1  7  7  6  7  1  4  4  7  1  7  4  8  4  8\n",
            " 5  9  7  6  7  2  8  9  9  2  6  7  7  6  8  3  2  4  6  8\n",
            "====================\n"
          ]
        }
      ],
      "source": [
        "print(\"Matríz de 5x5:\")\n",
        "m_5 = generar_matriz_aleatoria(5)\n",
        "imprimir_matriz(m_5)\n",
        "print(\"====================\")\n",
        "print(\"Matríz de 10x10:\")\n",
        "m_10 = generar_matriz_aleatoria(10)\n",
        "imprimir_matriz(m_10)\n",
        "print(\"====================\")\n",
        "print(\"Matríz de 20x20:\")\n",
        "m_20 = generar_matriz_aleatoria(20)\n",
        "imprimir_matriz(m_20)\n",
        "print(\"====================\")\n",
        "m_100 = generar_matriz_aleatoria(100)"
      ]
    },
    {
      "cell_type": "markdown",
      "metadata": {
        "id": "HD1UTmNlA4AR"
      },
      "source": [
        "---\n",
        "Ahora midamos el tiempo que tardamos en multiplicar cada una de las matrices por sí misma. Utilizaremos código como éste\n",
        "```python\n",
        "start = time.time()\n",
        "# ejecutar código\n",
        "end = time.time()\n",
        "tiempo = round(end - start, 5)\n",
        "print(f\"La ejecución tardó {tiempo} seg.\")\n",
        "```"
      ]
    },
    {
      "cell_type": "code",
      "execution_count": 62,
      "metadata": {
        "id": "TjDUreEQA4AR"
      },
      "outputs": [],
      "source": [
        "import time"
      ]
    },
    {
      "cell_type": "markdown",
      "metadata": {
        "id": "PZjNUXXhA4AR"
      },
      "source": [
        "**Comencemos con la matrices de 5x5**"
      ]
    },
    {
      "cell_type": "code",
      "execution_count": 63,
      "metadata": {
        "colab": {
          "base_uri": "https://localhost:8080/"
        },
        "id": "SQ0qaCUwA4AR",
        "outputId": "44742ad9-bab9-4b14-ffef-d8064259719c"
      },
      "outputs": [
        {
          "output_type": "stream",
          "name": "stdout",
          "text": [
            "Multiplicar dos matrices de 5x5 tardó 7.796287536621094e-05 seg.\n"
          ]
        }
      ],
      "source": [
        "start = time.time()\n",
        "multiplicar_matrices(m_5, m_5)\n",
        "end = time.time()\n",
        "tiempo = end - start\n",
        "print(f\"Multiplicar dos matrices de 5x5 tardó {tiempo} seg.\")"
      ]
    },
    {
      "cell_type": "markdown",
      "metadata": {
        "id": "tULbZc-NA4AR"
      },
      "source": [
        "**Nada mal… Veamos ahora 10x10**"
      ]
    },
    {
      "cell_type": "code",
      "execution_count": 64,
      "metadata": {
        "colab": {
          "base_uri": "https://localhost:8080/"
        },
        "id": "R9cnoOzIA4AR",
        "outputId": "5c31d663-63e7-4494-86b3-b65eb0774450"
      },
      "outputs": [
        {
          "output_type": "stream",
          "name": "stdout",
          "text": [
            "Multiplicar dos matrices de 10x10 tardó 0.00022125244140625 seg.\n"
          ]
        }
      ],
      "source": [
        "start = time.time()\n",
        "multiplicar_matrices(m_10, m_10)\n",
        "end = time.time()\n",
        "tiempo = end - start\n",
        "print(f\"Multiplicar dos matrices de 10x10 tardó {tiempo} seg.\")"
      ]
    },
    {
      "cell_type": "markdown",
      "metadata": {
        "id": "rMYeyaAIA4AR"
      },
      "source": [
        "**Parece que va bastante rápido... Intentemos ahora con una matriz de 1000x1000**"
      ]
    },
    {
      "cell_type": "code",
      "execution_count": 65,
      "metadata": {
        "colab": {
          "base_uri": "https://localhost:8080/"
        },
        "id": "fMAMdRVMA4AR",
        "outputId": "650ffa73-e7d6-4d05-f260-ac7d5606b322"
      },
      "outputs": [
        {
          "output_type": "stream",
          "name": "stdout",
          "text": [
            "Multiplicar dos matrices de 1000x1000 tardó 104.59726905822754 seg.\n"
          ]
        }
      ],
      "source": [
        "m_1000 = generar_matriz_aleatoria(1000)\n",
        "start = time.time()\n",
        "multiplicar_matrices(m_1000, m_1000)\n",
        "end = time.time()\n",
        "tiempo = end - start\n",
        "print(f\"Multiplicar dos matrices de 1000x1000 tardó {tiempo} seg.\")"
      ]
    },
    {
      "cell_type": "markdown",
      "metadata": {
        "id": "j7pP-xjKA4AR"
      },
      "source": [
        "# Tardamos más de un minuto completo en multiplicar dos matrices de 1000x1000\n",
        "\n",
        "---\n",
        "\n",
        "## Implementación con Numpy\n",
        "\n",
        "Veamos qué tanto mejora el rendimiento de multiplicación de matrices cuando implementamos numpy.\n",
        "\n",
        "Primero, creemos una función para generar matrices:"
      ]
    },
    {
      "cell_type": "code",
      "execution_count": 66,
      "metadata": {
        "id": "zWg_fP_LA4AR"
      },
      "outputs": [],
      "source": [
        "def generar_matriz_aleatoria_numpy(N):\n",
        "    return np.random.randint(1, 10, size=(N, N))"
      ]
    },
    {
      "cell_type": "markdown",
      "metadata": {
        "id": "F-siwLEmA4AR"
      },
      "source": [
        "**No te preocupes por la sintaxis de Numpy. La revisaremos más adelante 😎**"
      ]
    },
    {
      "cell_type": "code",
      "execution_count": 67,
      "metadata": {
        "id": "XzQ9sQybA4AR"
      },
      "outputs": [],
      "source": [
        "m_1000 = generar_matriz_aleatoria_numpy(1000)"
      ]
    },
    {
      "cell_type": "markdown",
      "metadata": {
        "id": "XqkRu_PFA4AR"
      },
      "source": [
        "**Para multiplicar matrices en numpy, podemos utilizar la función `np.dot`, o bien, el operador `@`**"
      ]
    },
    {
      "cell_type": "code",
      "execution_count": 68,
      "metadata": {
        "colab": {
          "base_uri": "https://localhost:8080/"
        },
        "id": "mt69x7IyA4AS",
        "outputId": "1ac13548-db04-45d3-dbfc-3962b31254d2"
      },
      "outputs": [
        {
          "output_type": "stream",
          "name": "stdout",
          "text": [
            "Multiplicar dos matrices de 1000x1000 con Numpy tardó 1.4457218647003174 seg.\n"
          ]
        }
      ],
      "source": [
        "start = time.time()\n",
        "np.dot(m_1000, m_1000)\n",
        "# o bien, m_1000 @ m_1000\n",
        "end = time.time()\n",
        "tiempo = end - start\n",
        "print(f\"Multiplicar dos matrices de 1000x1000 con Numpy tardó {tiempo} seg.\")"
      ]
    },
    {
      "cell_type": "markdown",
      "metadata": {
        "id": "nZk677JCA4AS"
      },
      "source": [
        "---\n",
        "\n",
        "## Arreglos de 2 dimensiones\n",
        "Un arreglo de dos dimensiones es lo mismo que una matriz de $m \\times n$. Una matriz es la forma más adecauda de representar datos tabulares, Numpy hace su manejo sumamente fácil. Comencemos por crear una matriz de $3 \\times 3$\n",
        "\n",
        "Queremos hacer la siguiente matriz:\n",
        "$$ \\begin{bmatrix}\n",
        "0 & 1 & 2 \\\\\n",
        "3 & 4 & 5 \\\\\n",
        "6 & 7 & 8\n",
        "\\end{bmatrix} $$"
      ]
    },
    {
      "cell_type": "code",
      "execution_count": 69,
      "metadata": {
        "colab": {
          "base_uri": "https://localhost:8080/"
        },
        "id": "p0RJ-7x5A4AS",
        "outputId": "c535e08b-6e29-4708-8362-70c8a9a80190"
      },
      "outputs": [
        {
          "output_type": "execute_result",
          "data": {
            "text/plain": [
              "array([[0, 1, 2],\n",
              "       [3, 4, 5],\n",
              "       [6, 7, 8]])"
            ]
          },
          "metadata": {},
          "execution_count": 69
        }
      ],
      "source": [
        "list2 = [[0,1,2], [3,4,5], [6,7,8]]\n",
        "arr2d = np.array(list2)\n",
        "arr2d"
      ]
    },
    {
      "cell_type": "markdown",
      "metadata": {
        "id": "MIPtVT3XA4AS"
      },
      "source": [
        "Podemos especificar el tipo de dato cuando creamos nuestro `ndarray`, por lo general Numpy infiere el tipo de dato"
      ]
    },
    {
      "cell_type": "code",
      "execution_count": 70,
      "metadata": {
        "colab": {
          "base_uri": "https://localhost:8080/"
        },
        "id": "i9hPPBBXA4AS",
        "outputId": "5eda5a1b-945e-452d-d85c-a60489b9c92e"
      },
      "outputs": [
        {
          "output_type": "execute_result",
          "data": {
            "text/plain": [
              "array([[0., 1., 2.],\n",
              "       [3., 4., 5.],\n",
              "       [6., 7., 8.]])"
            ]
          },
          "metadata": {},
          "execution_count": 70
        }
      ],
      "source": [
        "arr2d_f = np.array(list2, dtype='float')\n",
        "arr2d_f"
      ]
    },
    {
      "cell_type": "code",
      "execution_count": 71,
      "metadata": {
        "colab": {
          "base_uri": "https://localhost:8080/"
        },
        "id": "7iBkBkmVA4AS",
        "outputId": "22809e9d-b0de-4fb8-cc43-48dcdb37c8ac"
      },
      "outputs": [
        {
          "output_type": "execute_result",
          "data": {
            "text/plain": [
              "array([[0, 1, 2],\n",
              "       [3, 4, 5],\n",
              "       [6, 7, 8]])"
            ]
          },
          "metadata": {},
          "execution_count": 71
        }
      ],
      "source": [
        "#convertir a enteros nuevamente\n",
        "arr2d_f.astype('int')"
      ]
    },
    {
      "cell_type": "code",
      "execution_count": 72,
      "metadata": {
        "colab": {
          "base_uri": "https://localhost:8080/"
        },
        "id": "ELtPtKzlA4AY",
        "outputId": "18ac0b67-b75d-42c9-87a0-544ea2e49b83"
      },
      "outputs": [
        {
          "output_type": "execute_result",
          "data": {
            "text/plain": [
              "array([['0', '1', '2'],\n",
              "       ['3', '4', '5'],\n",
              "       ['6', '7', '8']], dtype='<U21')"
            ]
          },
          "metadata": {},
          "execution_count": 72
        }
      ],
      "source": [
        "# convertir a enteros y luego a strings\n",
        "arr2d_f.astype('int').astype('str')"
      ]
    },
    {
      "cell_type": "markdown",
      "metadata": {
        "id": "U_kxIg10A4AY"
      },
      "source": [
        "Una diferencia importante entre listas y np.arrays es que una lista puede almacenar objetos de diferentes tipos de datos, mientras que un np.array debe ser consistente en el tipo de dato que almacena. Esto se debe al deseo que tenemos por realizar operaciones vectorizadas"
      ]
    },
    {
      "cell_type": "code",
      "execution_count": 73,
      "metadata": {
        "colab": {
          "base_uri": "https://localhost:8080/"
        },
        "id": "JpfzqWRLA4AY",
        "outputId": "2e252fbd-3411-413b-e2b8-5b2ebf3f3832"
      },
      "outputs": [
        {
          "output_type": "execute_result",
          "data": {
            "text/plain": [
              "array([ True, False,  True,  True,  True,  True, False])"
            ]
          },
          "metadata": {},
          "execution_count": 73
        }
      ],
      "source": [
        "# crear un arreglo de valroes lógicos o bools\n",
        "arr2d_b = np.array([1, 0, 10, 11, 12, -1, 0], dtype='bool')\n",
        "arr2d_b"
      ]
    },
    {
      "cell_type": "markdown",
      "metadata": {
        "id": "ctyLJPzIA4AY"
      },
      "source": [
        "Sí existe una forma de mantener la ambigüedad en el tipo de dato de nuestro array. Esto lo podemos logar si especificamos que el tipo de dato es `object`"
      ]
    },
    {
      "cell_type": "code",
      "execution_count": 74,
      "metadata": {
        "colab": {
          "base_uri": "https://localhost:8080/"
        },
        "id": "uP08eCuQA4AY",
        "outputId": "a904c09a-e6b9-4514-ca73-cf1c4bc4e236"
      },
      "outputs": [
        {
          "output_type": "execute_result",
          "data": {
            "text/plain": [
              "array([1, 'a'], dtype=object)"
            ]
          },
          "metadata": {},
          "execution_count": 74
        }
      ],
      "source": [
        "arr1d_obj = np.array([1, 'a'], dtype='object')\n",
        "arr1d_obj"
      ]
    },
    {
      "cell_type": "markdown",
      "metadata": {
        "id": "grttNuRYA4AY"
      },
      "source": [
        "Por último: podemos convertir un `ndarray` a una lista en cualquier momento utilziando el método `tolist()`"
      ]
    },
    {
      "cell_type": "code",
      "execution_count": 75,
      "metadata": {
        "colab": {
          "base_uri": "https://localhost:8080/"
        },
        "id": "oLlkXb3hA4AY",
        "outputId": "0001a758-9f5a-4fb3-b697-e472b087f85d"
      },
      "outputs": [
        {
          "output_type": "execute_result",
          "data": {
            "text/plain": [
              "[1, 'a']"
            ]
          },
          "metadata": {},
          "execution_count": 75
        }
      ],
      "source": [
        "lista = arr1d_obj.tolist()\n",
        "lista"
      ]
    },
    {
      "cell_type": "markdown",
      "metadata": {
        "id": "ny4yYUwRA4AY"
      },
      "source": [
        "O bien `list(numpy.ndarray)`"
      ]
    },
    {
      "cell_type": "code",
      "execution_count": 76,
      "metadata": {
        "colab": {
          "base_uri": "https://localhost:8080/"
        },
        "id": "2OCOV04CA4AY",
        "outputId": "ab834c23-757c-4aca-eb7e-0cb781b607db"
      },
      "outputs": [
        {
          "output_type": "execute_result",
          "data": {
            "text/plain": [
              "[1, 'a']"
            ]
          },
          "metadata": {},
          "execution_count": 76
        }
      ],
      "source": [
        "list(arr1d_obj)"
      ]
    },
    {
      "cell_type": "markdown",
      "metadata": {
        "editable": true,
        "tags": [],
        "id": "s7WqHz-mA4AY"
      },
      "source": [
        "## Tamaño y dimensión de un array\n",
        "Un arreglo tiene dos propiedades básicas que nos dicen mucho acerca de su estructura: tamaño y dimensión.\n",
        "\n",
        "Considemos el arreglo `arr2d`. Éste se creó a partir de una lista de listas. O sea, tiene dos dimensiones. Un arreglo de dos dimensiones se puede mostrar como renglones y columnas, i.e. una matriz.\n",
        "\n",
        "Si hubiéramos creado el array a partir de una lista de lista de listas, entonces serían 3 dimensiones, i.e. un cubo.\n",
        "\n",
        "Supogamos que recibimos un arreglo de numpy que no creamos nosotros. ¿Qué cosas queremos explorar para conocer bien este arreglo?\n",
        "\n",
        "Bueno, unas buenas preguntas que querríamos contestar son:\n",
        "- ¿Cuál es la dimensión del arreglo? ¿es de 1, 2 o más dimensiones? `ndim`\n",
        "- ¿Cuántos elementos hay en cada dimensión? `shape`\n",
        "- ¿Cuál es el tipo de dato? `dtype`\n",
        "- ¿Cuál es el número total de elementos? `size`\n",
        "- Algunos ejemplos/elementos del arreglo\n",
        "\n",
        "Comencemos"
      ]
    },
    {
      "cell_type": "code",
      "execution_count": 77,
      "metadata": {
        "colab": {
          "base_uri": "https://localhost:8080/"
        },
        "id": "TaQyeCcEA4AY",
        "outputId": "4649729e-ebfa-4c1e-fd23-efe0706c6d2e"
      },
      "outputs": [
        {
          "output_type": "execute_result",
          "data": {
            "text/plain": [
              "array([[1., 2., 3., 4.],\n",
              "       [3., 4., 5., 6.],\n",
              "       [5., 6., 7., 8.]])"
            ]
          },
          "metadata": {},
          "execution_count": 77
        }
      ],
      "source": [
        "# Crear arreglo de dos dimensiones con 3 filas y 4 columnas\n",
        "list2 = [[1, 2, 3, 4],[3, 4, 5, 6], [5, 6, 7, 8]]\n",
        "arr2 = np.array(list2, dtype='float')\n",
        "arr2"
      ]
    },
    {
      "cell_type": "code",
      "execution_count": 78,
      "metadata": {
        "colab": {
          "base_uri": "https://localhost:8080/"
        },
        "id": "RMmTT3f5A4AY",
        "outputId": "6e2bcd2c-484e-4c6a-e33b-91ba6d54f18f"
      },
      "outputs": [
        {
          "output_type": "stream",
          "name": "stdout",
          "text": [
            "Shape:  (3, 4)\n",
            "Datatype:  float64\n",
            "Size:  12\n",
            "Num Dimensions:  2\n"
          ]
        }
      ],
      "source": [
        "# shape\n",
        "print('Shape: ', arr2.shape)\n",
        "\n",
        "# dtype\n",
        "print('Datatype: ', arr2.dtype)\n",
        "\n",
        "# size\n",
        "print('Size: ', arr2.size)\n",
        "\n",
        "# ndim\n",
        "print('Num Dimensions: ', arr2.ndim)"
      ]
    },
    {
      "cell_type": "markdown",
      "metadata": {
        "id": "TEglqivWA4AY"
      },
      "source": [
        "---\n",
        "\n",
        "## Acceder a los elementos del arreglo\n",
        "Podemos extraer elementos o porciones específicos de un arreglo utilizando índices o `indexing` empezando por $0$. Esto es similar a cómo lo hacemos con listas en Python.\n",
        "\n",
        "Pero a diferencia de las listas, los numpy arrays aceptan (opcionalmente) la misma cantidad de parámetros para indexar que el número de dimensiones que tiene el array.\n",
        "\n",
        "Esto último es algo confuso, y no hay mejor manera que ilustrarlo que con un ejemplo:\n"
      ]
    },
    {
      "cell_type": "code",
      "execution_count": 79,
      "metadata": {
        "colab": {
          "base_uri": "https://localhost:8080/"
        },
        "id": "pKUM3D-0A4AY",
        "outputId": "d7fc527e-87ab-4001-ebea-35c7bc924f8c"
      },
      "outputs": [
        {
          "output_type": "execute_result",
          "data": {
            "text/plain": [
              "array([[1., 2., 3., 4.],\n",
              "       [3., 4., 5., 6.],\n",
              "       [5., 6., 7., 8.]])"
            ]
          },
          "metadata": {},
          "execution_count": 79
        }
      ],
      "source": [
        "arr2"
      ]
    },
    {
      "cell_type": "markdown",
      "metadata": {
        "id": "-ajg_wPxA4AY"
      },
      "source": [
        "Podemos extraer un elemento específico `(i, j)` en donde `i` es la fila y `j` la columna"
      ]
    },
    {
      "cell_type": "code",
      "execution_count": 80,
      "metadata": {
        "colab": {
          "base_uri": "https://localhost:8080/"
        },
        "id": "K-ge0l5lA4AY",
        "outputId": "d7f00a1f-7a79-4f52-95c2-0bb8e53b9976"
      },
      "outputs": [
        {
          "output_type": "execute_result",
          "data": {
            "text/plain": [
              "np.float64(4.0)"
            ]
          },
          "metadata": {},
          "execution_count": 80
        }
      ],
      "source": [
        "arr2[1, 1]"
      ]
    },
    {
      "cell_type": "markdown",
      "metadata": {
        "id": "X5FbvIC4A4AY"
      },
      "source": [
        "También podemos extraer \"rangos\""
      ]
    },
    {
      "cell_type": "code",
      "execution_count": 81,
      "metadata": {
        "colab": {
          "base_uri": "https://localhost:8080/"
        },
        "id": "ElVtsq-8A4AY",
        "outputId": "76c915d9-02e5-414e-bb50-8d4ed1188d26"
      },
      "outputs": [
        {
          "output_type": "execute_result",
          "data": {
            "text/plain": [
              "array([[1., 2., 3.],\n",
              "       [3., 4., 5.],\n",
              "       [5., 6., 7.]])"
            ]
          },
          "metadata": {},
          "execution_count": 81
        }
      ],
      "source": [
        "# Extraer las primeras 3 filas y las primeras 3 columnas\n",
        "arr2[:3, :3]"
      ]
    },
    {
      "cell_type": "markdown",
      "metadata": {
        "id": "FDJWG7ANA4AY"
      },
      "source": [
        "Esto **no** se puede hacer en listas"
      ]
    },
    {
      "cell_type": "code",
      "execution_count": 82,
      "metadata": {
        "colab": {
          "base_uri": "https://localhost:8080/",
          "height": 144
        },
        "id": "OiI0dGD1A4AY",
        "outputId": "a75b45de-582c-4a92-a56f-197a0ba14f22"
      },
      "outputs": [
        {
          "output_type": "error",
          "ename": "TypeError",
          "evalue": "list indices must be integers or slices, not tuple",
          "traceback": [
            "\u001b[0;31m---------------------------------------------------------------------------\u001b[0m",
            "\u001b[0;31mTypeError\u001b[0m                                 Traceback (most recent call last)",
            "\u001b[0;32m/tmp/ipython-input-1842794663.py\u001b[0m in \u001b[0;36m<cell line: 0>\u001b[0;34m()\u001b[0m\n\u001b[0;32m----> 1\u001b[0;31m \u001b[0mlist2\u001b[0m\u001b[0;34m[\u001b[0m\u001b[0;34m:\u001b[0m\u001b[0;36m2\u001b[0m\u001b[0;34m,\u001b[0m \u001b[0;34m:\u001b[0m\u001b[0;36m2\u001b[0m\u001b[0;34m]\u001b[0m\u001b[0;34m\u001b[0m\u001b[0;34m\u001b[0m\u001b[0m\n\u001b[0m",
            "\u001b[0;31mTypeError\u001b[0m: list indices must be integers or slices, not tuple"
          ]
        }
      ],
      "source": [
        "list2[:2, :2]"
      ]
    },
    {
      "cell_type": "markdown",
      "metadata": {
        "id": "a5rptIlRA4AZ"
      },
      "source": [
        "Adicionalmente, en los numpy arrays existe algo que se llama `boolean indexing` o indexación lógica. Un `boolean index` o índice lógico.\n",
        "\n",
        "Un array de índices lógicos es de exactamente la misma forma (`shape`) que el array que estamos filtrando, sólo que contiene únicamente valores booleanos (`True` o `False`). Los valores que estén en los índices Verdaderos son los que va a arrojar nuestro filtro."
      ]
    },
    {
      "cell_type": "code",
      "execution_count": 83,
      "metadata": {
        "colab": {
          "base_uri": "https://localhost:8080/"
        },
        "id": "ao2ysXEOA4AZ",
        "outputId": "37491827-9af7-479a-cd13-6017d2341ca5"
      },
      "outputs": [
        {
          "output_type": "execute_result",
          "data": {
            "text/plain": [
              "array([[1., 2., 3., 4.],\n",
              "       [3., 4., 5., 6.],\n",
              "       [5., 6., 7., 8.]])"
            ]
          },
          "metadata": {},
          "execution_count": 83
        }
      ],
      "source": [
        "arr2"
      ]
    },
    {
      "cell_type": "code",
      "execution_count": 84,
      "metadata": {
        "colab": {
          "base_uri": "https://localhost:8080/"
        },
        "id": "ti2xDo5uA4AZ",
        "outputId": "17e4bb33-6239-49d3-cab2-a8ae5142aaf5"
      },
      "outputs": [
        {
          "output_type": "execute_result",
          "data": {
            "text/plain": [
              "array([[False, False, False, False],\n",
              "       [False, False,  True,  True],\n",
              "       [ True,  True,  True,  True]])"
            ]
          },
          "metadata": {},
          "execution_count": 84
        }
      ],
      "source": [
        "#Obtengamos el output booleano de aplicar una comparación a todo nuestro numpy array\n",
        "b = arr2 > 4\n",
        "b"
      ]
    },
    {
      "cell_type": "markdown",
      "metadata": {
        "id": "7ZpyGCIUA4AZ"
      },
      "source": [
        "Como podemos ver, b ahora es una matriz de $3 \\times 4$ con puros valores booleanos. El valor `True` está en todas las  posiciones en las que se cumplió que el elemento era $ > 4$\n",
        "\n",
        "Con esta matriz de valores booleanos, podemos filtrar nuestra matriz original y obtener los valores que estén en posiciones verdaderas,"
      ]
    },
    {
      "cell_type": "code",
      "execution_count": 85,
      "metadata": {
        "colab": {
          "base_uri": "https://localhost:8080/"
        },
        "id": "92_mBTz8A4AZ",
        "outputId": "a4571094-d46e-4ee2-9eb3-bd0e45fc1de4"
      },
      "outputs": [
        {
          "output_type": "execute_result",
          "data": {
            "text/plain": [
              "array([5., 6., 5., 6., 7., 8.])"
            ]
          },
          "metadata": {},
          "execution_count": 85
        }
      ],
      "source": [
        "arr2[b]"
      ]
    },
    {
      "cell_type": "markdown",
      "metadata": {
        "id": "BFXu0rvqA4AZ"
      },
      "source": [
        "## Valores faltantes e infinitos\n",
        "Es muy común recibir conjuntos de datos que tengan uno que otro valor en NA. Con numpy podemos representar valores faltantes con `np.nan` e infinitos con `np.inf`. Agreguemos algunos de estos valores a `arr2`"
      ]
    },
    {
      "cell_type": "code",
      "execution_count": 86,
      "metadata": {
        "colab": {
          "base_uri": "https://localhost:8080/"
        },
        "id": "sZjdSFy4A4AZ",
        "outputId": "1bf2898d-d298-4a4f-a581-d021d2ee3c60"
      },
      "outputs": [
        {
          "output_type": "execute_result",
          "data": {
            "text/plain": [
              "array([[ 1.,  2.,  3.,  4.],\n",
              "       [ 3., nan, inf,  6.],\n",
              "       [ 5.,  6.,  7.,  8.]])"
            ]
          },
          "metadata": {},
          "execution_count": 86
        }
      ],
      "source": [
        "arr2[1,1] = np.nan  # no es un número\n",
        "arr2[1,2] = np.inf  # infinito\n",
        "arr2"
      ]
    },
    {
      "cell_type": "markdown",
      "metadata": {
        "id": "wy1JFJ_9A4AZ"
      },
      "source": [
        "Vamos a reemplazar todos los valores `nan` e `inf` con un $-1$"
      ]
    },
    {
      "cell_type": "code",
      "execution_count": 87,
      "metadata": {
        "id": "_55whsEPA4AZ"
      },
      "outputs": [],
      "source": [
        "valores_faltantes_bool = np.isnan(arr2) | np.isinf(arr2)"
      ]
    },
    {
      "cell_type": "code",
      "execution_count": 88,
      "metadata": {
        "colab": {
          "base_uri": "https://localhost:8080/"
        },
        "id": "t3YqnGD1A4AZ",
        "outputId": "33789693-3423-4343-99b7-5d099fbf860e"
      },
      "outputs": [
        {
          "output_type": "execute_result",
          "data": {
            "text/plain": [
              "array([[False, False, False, False],\n",
              "       [False,  True,  True, False],\n",
              "       [False, False, False, False]])"
            ]
          },
          "metadata": {},
          "execution_count": 88
        }
      ],
      "source": [
        "valores_faltantes_bool"
      ]
    },
    {
      "cell_type": "code",
      "execution_count": 89,
      "metadata": {
        "colab": {
          "base_uri": "https://localhost:8080/"
        },
        "id": "QBjL4H9PA4AZ",
        "outputId": "bb06fa0e-b841-4879-e4be-2510411cbdd9"
      },
      "outputs": [
        {
          "output_type": "execute_result",
          "data": {
            "text/plain": [
              "array([[ 1.,  2.,  3.,  4.],\n",
              "       [ 3., -1., -1.,  6.],\n",
              "       [ 5.,  6.,  7.,  8.]])"
            ]
          },
          "metadata": {},
          "execution_count": 89
        }
      ],
      "source": [
        "arr2[valores_faltantes_bool] = -1\n",
        "arr2"
      ]
    },
    {
      "cell_type": "markdown",
      "metadata": {
        "id": "LvKtJ39GA4AZ"
      },
      "source": [
        "---\n",
        "\n",
        "## Calcular media, mínimo y máximo\n",
        "\n",
        "Un ndarray viene ya con algunos métodos útiles. Unos de éstos nos permiten calcular medidas básicas"
      ]
    },
    {
      "cell_type": "code",
      "execution_count": 90,
      "metadata": {
        "colab": {
          "base_uri": "https://localhost:8080/"
        },
        "id": "zLn9zGIRA4AZ",
        "outputId": "0ee8d429-9609-4cff-d21a-37c396a4645e"
      },
      "outputs": [
        {
          "output_type": "stream",
          "name": "stdout",
          "text": [
            "Hola mundo\n"
          ]
        }
      ],
      "source": [
        "print(\"Hola mundo\")"
      ]
    },
    {
      "cell_type": "code",
      "execution_count": 91,
      "metadata": {
        "colab": {
          "base_uri": "https://localhost:8080/"
        },
        "id": "5MkGx7CjA4AZ",
        "outputId": "ba786c6e-2f3c-4742-ca56-2bb35a99b38c"
      },
      "outputs": [
        {
          "output_type": "execute_result",
          "data": {
            "text/plain": [
              "array([[ 1.,  2.,  3.,  4.],\n",
              "       [ 3., -1., -1.,  6.],\n",
              "       [ 5.,  6.,  7.,  8.]])"
            ]
          },
          "metadata": {},
          "execution_count": 91
        }
      ],
      "source": [
        "arr2"
      ]
    },
    {
      "cell_type": "code",
      "execution_count": 92,
      "metadata": {
        "colab": {
          "base_uri": "https://localhost:8080/"
        },
        "id": "QS8JI96TA4AZ",
        "outputId": "3fbd4a8a-cae8-4439-c777-5c4debf0467f"
      },
      "outputs": [
        {
          "output_type": "stream",
          "name": "stdout",
          "text": [
            "Media:  3.5833333333333335\n",
            "Valor máximo:  8.0\n",
            "Valor mínimo:  -1.0\n"
          ]
        }
      ],
      "source": [
        "print(\"Media: \", arr2.mean())\n",
        "print(\"Valor máximo: \", arr2.max())\n",
        "print(\"Valor mínimo: \", arr2.min())"
      ]
    },
    {
      "cell_type": "code",
      "execution_count": 93,
      "metadata": {
        "colab": {
          "base_uri": "https://localhost:8080/"
        },
        "id": "tZun6ci-A4AZ",
        "outputId": "7f654155-b0b4-4903-f7a3-2f2cb42bbb11"
      },
      "outputs": [
        {
          "output_type": "execute_result",
          "data": {
            "text/plain": [
              "array([[ 1.,  2.,  3.,  4.],\n",
              "       [ 3., -1., -1.,  6.],\n",
              "       [ 5.,  6.,  7.,  8.]])"
            ]
          },
          "metadata": {},
          "execution_count": 93
        }
      ],
      "source": [
        "arr2"
      ]
    },
    {
      "cell_type": "markdown",
      "metadata": {
        "id": "vgnKIbEQA4AZ"
      },
      "source": [
        "Sin embargo, estos valores exploraron toda la matriz. Podemos obtener los mismos valores pero para filas y columnas utilizando `np.amin`"
      ]
    },
    {
      "cell_type": "code",
      "execution_count": 94,
      "metadata": {
        "colab": {
          "base_uri": "https://localhost:8080/"
        },
        "id": "CZLfo3RJA4AZ",
        "outputId": "d9798a53-9884-482f-e676-e223c6b592f1"
      },
      "outputs": [
        {
          "output_type": "stream",
          "name": "stdout",
          "text": [
            "Valores mínimos en columnas [ 1. -1. -1.  4.]\n"
          ]
        }
      ],
      "source": [
        "print(\"Valores mínimos en columnas\", np.amin(arr2, axis=0))"
      ]
    },
    {
      "cell_type": "code",
      "execution_count": 95,
      "metadata": {
        "colab": {
          "base_uri": "https://localhost:8080/"
        },
        "id": "xyyCuYXFA4AZ",
        "outputId": "0289aead-03b7-47f8-f050-cdaa9e113f89"
      },
      "outputs": [
        {
          "output_type": "stream",
          "name": "stdout",
          "text": [
            "Valores mínimos en filas:  [ 1. -1.  5.]\n"
          ]
        }
      ],
      "source": [
        "print(\"Valores mínimos en filas: \", np.amin(arr2, axis=1))"
      ]
    },
    {
      "cell_type": "code",
      "execution_count": 96,
      "metadata": {
        "colab": {
          "base_uri": "https://localhost:8080/"
        },
        "id": "P3ThxLUHA4AZ",
        "outputId": "63a3f497-22f6-4d3b-cecf-9dc31a849dd2"
      },
      "outputs": [
        {
          "output_type": "execute_result",
          "data": {
            "text/plain": [
              "array([[ 1.,  2.,  3.,  4.],\n",
              "       [ 3., -1., -1.,  6.],\n",
              "       [ 5.,  6.,  7.,  8.]])"
            ]
          },
          "metadata": {},
          "execution_count": 96
        }
      ],
      "source": [
        "arr2"
      ]
    },
    {
      "cell_type": "markdown",
      "metadata": {
        "id": "-RqGjfshA4AZ"
      },
      "source": [
        "---\n",
        "\n",
        "## Crear un arreglo a partir de otro arreglo\n",
        "En Numpy la alocación de memoria sigue la misma lógica que en Python: si asignamos una porción de un array a una nueva variable, y modificamos elementos de esta nueva variable, entonces los cambios se verán reflejados también en nuestro array original. Para evitar este comportamiento (si eso es lo que queremos) utilizamos el método `copy()`."
      ]
    },
    {
      "cell_type": "code",
      "execution_count": 97,
      "metadata": {
        "id": "n8NmaLYDA4AZ"
      },
      "outputs": [],
      "source": [
        "arr2_nuevo = arr2[:2,:2]\n",
        "arr2_nuevo[:1, :1] = 100  # el 100 se va a reflejar también en el array original arr2"
      ]
    },
    {
      "cell_type": "code",
      "execution_count": 98,
      "metadata": {
        "colab": {
          "base_uri": "https://localhost:8080/"
        },
        "id": "uEtN6K4wA4AZ",
        "outputId": "1c5b94d9-b780-4f9d-d67d-ec3aac5bba80"
      },
      "outputs": [
        {
          "output_type": "execute_result",
          "data": {
            "text/plain": [
              "array([[100.,   2.,   3.,   4.],\n",
              "       [  3.,  -1.,  -1.,   6.],\n",
              "       [  5.,   6.,   7.,   8.]])"
            ]
          },
          "metadata": {},
          "execution_count": 98
        }
      ],
      "source": [
        "# Veamos arr2 (original)\n",
        "arr2"
      ]
    },
    {
      "cell_type": "markdown",
      "metadata": {
        "id": "ZEAg92hWA4AZ"
      },
      "source": [
        "Y ahora veamos `arr2_nuevo`"
      ]
    },
    {
      "cell_type": "code",
      "execution_count": 99,
      "metadata": {
        "colab": {
          "base_uri": "https://localhost:8080/"
        },
        "id": "mOdRszhwA4AZ",
        "outputId": "a5c21e3c-9c6b-4fa9-ca0d-a1d245d4ffbd"
      },
      "outputs": [
        {
          "output_type": "execute_result",
          "data": {
            "text/plain": [
              "array([[100.,   2.],\n",
              "       [  3.,  -1.]])"
            ]
          },
          "metadata": {},
          "execution_count": 99
        }
      ],
      "source": [
        "arr2_nuevo"
      ]
    },
    {
      "cell_type": "code",
      "execution_count": 100,
      "metadata": {
        "colab": {
          "base_uri": "https://localhost:8080/"
        },
        "id": "AOPPwXwnA4AZ",
        "outputId": "f9b38400-c94d-4bc8-d862-04df7ed8cbf4"
      },
      "outputs": [
        {
          "output_type": "execute_result",
          "data": {
            "text/plain": [
              "array([[100.,   2.,   3.,   4.],\n",
              "       [  3.,  -1.,  -1.,   6.],\n",
              "       [  5.,   6.,   7.,   8.]])"
            ]
          },
          "metadata": {},
          "execution_count": 100
        }
      ],
      "source": [
        "#Para evitar esto vamos a usar copy\n",
        "arr2_nuevo_2 = arr2[:2, :2].copy()\n",
        "arr2_nuevo_2[0, 0] = 102  # 102 no saldrá en arr2\n",
        "arr2"
      ]
    },
    {
      "cell_type": "code",
      "execution_count": 101,
      "metadata": {
        "colab": {
          "base_uri": "https://localhost:8080/"
        },
        "id": "VQ64z4AwA4AZ",
        "outputId": "25a176d6-7925-4d88-9100-3cad8825a85a"
      },
      "outputs": [
        {
          "output_type": "execute_result",
          "data": {
            "text/plain": [
              "array([[102.,   2.],\n",
              "       [  3.,  -1.]])"
            ]
          },
          "metadata": {},
          "execution_count": 101
        }
      ],
      "source": [
        "arr2_nuevo_2"
      ]
    },
    {
      "cell_type": "markdown",
      "metadata": {
        "id": "FnlueNBaA4AZ"
      },
      "source": [
        "---\n",
        "\n",
        "## Crear secuencias, repeticiones y números aleatorios\n",
        "\n",
        "`np.arange`"
      ]
    },
    {
      "cell_type": "code",
      "execution_count": 102,
      "metadata": {
        "colab": {
          "base_uri": "https://localhost:8080/"
        },
        "id": "vBCrSYfyA4AZ",
        "outputId": "df6e4b4b-d5d2-4e92-fe06-3e56cdca69c6"
      },
      "outputs": [
        {
          "output_type": "stream",
          "name": "stdout",
          "text": [
            "[0 1 2 3 4]\n"
          ]
        }
      ],
      "source": [
        "# El límite inferior es 0 por defecto\n",
        "print(np.arange(5))\n",
        "nuevo_arr = np.arange(10)"
      ]
    },
    {
      "cell_type": "code",
      "execution_count": 103,
      "metadata": {
        "colab": {
          "base_uri": "https://localhost:8080/"
        },
        "id": "O8UnMbhOA4Aa",
        "outputId": "b0dd3b75-6f3c-4858-f701-a53b46602f41"
      },
      "outputs": [
        {
          "output_type": "execute_result",
          "data": {
            "text/plain": [
              "numpy.ndarray"
            ]
          },
          "metadata": {},
          "execution_count": 103
        }
      ],
      "source": [
        "type(nuevo_arr)"
      ]
    },
    {
      "cell_type": "code",
      "execution_count": 104,
      "metadata": {
        "colab": {
          "base_uri": "https://localhost:8080/"
        },
        "id": "fsnskwKdA4Aa",
        "outputId": "158f5455-8384-408d-9edc-39dd97b045eb"
      },
      "outputs": [
        {
          "output_type": "stream",
          "name": "stdout",
          "text": [
            "[ 5  6  7  8  9 10 11 12 13 14 15 16 17 18 19 20 21 22 23 24 25 26 27 28\n",
            " 29 30 31 32 33 34 35 36 37 38 39 40 41 42 43 44 45 46 47 48 49 50 51 52\n",
            " 53 54 55 56 57 58 59 60 61 62 63 64 65 66 67 68 69 70 71 72 73 74 75 76\n",
            " 77 78 79 80 81 82 83 84 85 86 87 88 89 90 91 92 93 94 95 96 97 98 99]\n"
          ]
        }
      ],
      "source": [
        "# 0 a 9\n",
        "print(np.arange(5, 100))"
      ]
    },
    {
      "cell_type": "code",
      "execution_count": 105,
      "metadata": {
        "colab": {
          "base_uri": "https://localhost:8080/"
        },
        "id": "lbw7K8wEA4Aa",
        "outputId": "e5752869-9b12-468f-d315-003c8b5e103b"
      },
      "outputs": [
        {
          "output_type": "stream",
          "name": "stdout",
          "text": [
            "[ 0.   3.5  7.  10.5 14.  17.5 21.  24.5 28.  31.5 35.  38.5 42.  45.5\n",
            " 49.  52.5 56.  59.5 63.  66.5 70.  73.5 77.  80.5 84.  87.5 91.  94.5\n",
            " 98. ]\n"
          ]
        }
      ],
      "source": [
        "# 0 a 9 de 2 en 2\n",
        "print(np.arange(0, 100, 3.5))"
      ]
    },
    {
      "cell_type": "code",
      "execution_count": 106,
      "metadata": {
        "colab": {
          "base_uri": "https://localhost:8080/"
        },
        "id": "FhtUPv79A4Aa",
        "outputId": "8f30c94d-4e02-4525-afd0-dbeda0f79eb8"
      },
      "outputs": [
        {
          "output_type": "stream",
          "name": "stdout",
          "text": [
            "[10  9  8  7  6  5  4  3  2  1]\n"
          ]
        }
      ],
      "source": [
        "# 10 a 1, en decrementos de 1\n",
        "print(np.arange(10, 0, -1))"
      ]
    },
    {
      "cell_type": "markdown",
      "metadata": {
        "id": "mJz-YJ_EA4Aa"
      },
      "source": [
        "Podemos poner límite inferior y superior con `np.arange`, pero si queremos enfocarnos en el número de elmentos que queremos generar, entonces tenemos que concentrarnos en el valor del incremento/decremento (`step`)\n",
        "\n",
        "Digamos que queremos generar exactamente 10 valores entre 1 y 50.\n",
        "\n",
        "Podemos usar `np.linspace`"
      ]
    },
    {
      "cell_type": "code",
      "execution_count": 107,
      "metadata": {
        "colab": {
          "base_uri": "https://localhost:8080/"
        },
        "id": "WkomiU3iA4Aa",
        "outputId": "645cccf4-a75a-4335-dfa8-21b26b5b2959"
      },
      "outputs": [
        {
          "output_type": "execute_result",
          "data": {
            "text/plain": [
              "array([ 1,  3,  6,  8, 11, 13, 16, 19, 21, 24, 26, 29, 31, 34, 37, 39, 42,\n",
              "       44, 47, 50])"
            ]
          },
          "metadata": {},
          "execution_count": 107
        }
      ],
      "source": [
        "# Empieza en 1, terminar en 50, creando 10 números enteros\n",
        "np.linspace(start=1, stop=50, num=20, dtype=int)"
      ]
    },
    {
      "cell_type": "markdown",
      "metadata": {
        "id": "4YXYvQvXA4Aa"
      },
      "source": [
        "Un buen observador se dará cuenta que nuestros elementos no están espaciados uniformemente. Esto se debe a que especificamos que el tipo de dato era entero."
      ]
    },
    {
      "cell_type": "markdown",
      "metadata": {
        "id": "Un4czY_xA4Aa"
      },
      "source": [
        "---\n",
        "\n",
        "## Crear arreglos de $1's$ y $0's$\n",
        "\n",
        "A menudo tendremos la necesidad de crear vectores o matrices que tengan únicamente valores de $1$ o $0$. Numpy hace esto muy fácil"
      ]
    },
    {
      "cell_type": "code",
      "execution_count": 108,
      "metadata": {
        "colab": {
          "base_uri": "https://localhost:8080/"
        },
        "id": "FUaNP6M6A4Aa",
        "outputId": "7d7a6ade-c6d7-4ab7-c4c7-d0fae5a96db6"
      },
      "outputs": [
        {
          "output_type": "execute_result",
          "data": {
            "text/plain": [
              "array([[0., 0.],\n",
              "       [0., 0.]])"
            ]
          },
          "metadata": {},
          "execution_count": 108
        }
      ],
      "source": [
        "np.zeros([2,2])"
      ]
    },
    {
      "cell_type": "code",
      "execution_count": 109,
      "metadata": {
        "colab": {
          "base_uri": "https://localhost:8080/"
        },
        "id": "sG5CwosYA4Aa",
        "outputId": "68653a17-73ab-4371-a5d4-0c76ccf28e51"
      },
      "outputs": [
        {
          "output_type": "execute_result",
          "data": {
            "text/plain": [
              "array([[1., 1.],\n",
              "       [1., 1.]])"
            ]
          },
          "metadata": {},
          "execution_count": 109
        }
      ],
      "source": [
        "np.ones([2,2])"
      ]
    },
    {
      "cell_type": "markdown",
      "metadata": {
        "id": "uVEsjmVJA4Aa"
      },
      "source": [
        "---\n",
        "\n",
        "## Crear secuencias repetidas"
      ]
    },
    {
      "cell_type": "code",
      "execution_count": 110,
      "metadata": {
        "colab": {
          "base_uri": "https://localhost:8080/"
        },
        "id": "TCyc9osGA4Aa",
        "outputId": "12a7ca27-d269-4079-a2d1-e8ed49e6edb6"
      },
      "outputs": [
        {
          "output_type": "stream",
          "name": "stdout",
          "text": [
            "Tile:    [1 2 3 1 2 3]\n",
            "Repeat:  [1 1 1 1 2 2 2 2 3 3 3 3]\n"
          ]
        }
      ],
      "source": [
        "a = [1,2,3]\n",
        "\n",
        "# Repetir todo el arreglo 'a' dos veces\n",
        "print('Tile:   ', np.tile(a, 2))\n",
        "\n",
        "# Repetir cada elemento de 'a' dos veces\n",
        "print('Repeat: ', np.repeat(a, 4))\n"
      ]
    },
    {
      "cell_type": "code",
      "execution_count": 111,
      "metadata": {
        "colab": {
          "base_uri": "https://localhost:8080/"
        },
        "id": "tL7sbQvVA4Aa",
        "outputId": "29e8a8b3-680f-47bd-9baf-195f2306a978"
      },
      "outputs": [
        {
          "output_type": "execute_result",
          "data": {
            "text/plain": [
              "83"
            ]
          },
          "metadata": {},
          "execution_count": 111
        }
      ],
      "source": [
        "import random\n",
        "random.randint(0,100)"
      ]
    },
    {
      "cell_type": "markdown",
      "metadata": {
        "id": "KOswTmYeA4Aa"
      },
      "source": [
        "---\n",
        "\n",
        "## Generar números aleatorios\n",
        "Numpy tiene un módulo `random` con funciones últiles para generar números aleatorios de cualquier `shape`"
      ]
    },
    {
      "cell_type": "code",
      "execution_count": 112,
      "metadata": {
        "colab": {
          "base_uri": "https://localhost:8080/"
        },
        "id": "WRfzi8IpA4Aa",
        "outputId": "30754943-f8a9-4969-f9f9-f0f67e6e67ae"
      },
      "outputs": [
        {
          "output_type": "stream",
          "name": "stdout",
          "text": [
            "Números aleatorios entre [0,1) de tamaño  2,2\n",
            "[[0.18780988 0.53771574 0.84320278 0.02872982 0.47934553]\n",
            " [0.63548663 0.60773861 0.34047956 0.90980829 0.25082379]\n",
            " [0.5949054  0.29133987 0.17858936 0.23529694 0.5025221 ]]\n"
          ]
        }
      ],
      "source": [
        "\n",
        "print(\"Números aleatorios entre [0,1) de tamaño  2,2\")\n",
        "print(np.random.rand(3,5))"
      ]
    },
    {
      "cell_type": "code",
      "execution_count": 113,
      "metadata": {
        "colab": {
          "base_uri": "https://localhost:8080/"
        },
        "id": "qbophMdTA4Aa",
        "outputId": "e0782e9f-1f40-4b34-bc5b-9f1955699c3f"
      },
      "outputs": [
        {
          "output_type": "stream",
          "name": "stdout",
          "text": [
            "Números aleatorios de una distribución normal con media=0 y varianza=1 de tamaño 2,2\n",
            "[[-1.20053739  0.76555331]\n",
            " [ 0.48685755  0.31720876]]\n"
          ]
        }
      ],
      "source": [
        "print(\"Números aleatorios de una distribución normal con media=0 y varianza=1 de tamaño 2,2\")\n",
        "print(np.random.randn(2,2))"
      ]
    },
    {
      "cell_type": "code",
      "execution_count": 114,
      "metadata": {
        "colab": {
          "base_uri": "https://localhost:8080/"
        },
        "id": "x_LTK-X5A4Aa",
        "outputId": "4245f293-299c-4db4-ca13-2a7fe363e16a"
      },
      "outputs": [
        {
          "output_type": "stream",
          "name": "stdout",
          "text": [
            "Enteros aleatorios entre [0,10) de tamaño 2,2\n",
            "[[88 15 92 63 77]\n",
            " [41 44 54  1 26]\n",
            " [50 18 62 61 47]\n",
            " [ 1 92 73 26 77]\n",
            " [98 80 52 98 88]]\n"
          ]
        }
      ],
      "source": [
        "print(\"Enteros aleatorios entre [0,10) de tamaño 2,2\")\n",
        "print(np.random.randint(0, 100, size=[5,5]))"
      ]
    },
    {
      "cell_type": "code",
      "execution_count": 115,
      "metadata": {
        "colab": {
          "base_uri": "https://localhost:8080/"
        },
        "id": "plOX-0e3A4Aa",
        "outputId": "074f9c14-9247-4790-baf7-07be5af8254a"
      },
      "outputs": [
        {
          "output_type": "stream",
          "name": "stdout",
          "text": [
            "Genera un número aleatorio entre [0,1)\n",
            "0.4004135818435409\n"
          ]
        }
      ],
      "source": [
        "print(\"Genera un número aleatorio entre [0,1)\")\n",
        "print(np.random.random())"
      ]
    },
    {
      "cell_type": "code",
      "execution_count": 116,
      "metadata": {
        "colab": {
          "base_uri": "https://localhost:8080/"
        },
        "id": "TAtThTJSA4Aa",
        "outputId": "842d7182-bfaf-4d22-9cad-fb53304ba194"
      },
      "outputs": [
        {
          "output_type": "stream",
          "name": "stdout",
          "text": [
            "Elige 10 elementos de una lista (los resultados son equiprobables)\n",
            "['Sol' 'Cara' 'Cara' 'Cara' 'Sol' 'Cara' 'Sol' 'Sol' 'Cara' 'Cara']\n"
          ]
        }
      ],
      "source": [
        "print(\"Elige 10 elementos de una lista (los resultados son equiprobables)\")\n",
        "print(np.random.choice(['Cara', 'Sol'], size=10))"
      ]
    },
    {
      "cell_type": "code",
      "execution_count": 117,
      "metadata": {
        "colab": {
          "base_uri": "https://localhost:8080/"
        },
        "id": "dl8VfqRMA4Aa",
        "outputId": "445f8a51-c9df-424a-df35-a6123dcfc6a6"
      },
      "outputs": [
        {
          "output_type": "stream",
          "name": "stdout",
          "text": [
            "Elige 10 elementos de una lista. Cada uno con una probablidad p\n",
            "['Sol' 'Sol' 'Sol' 'Sol' 'Sol' 'Sol' 'Sol' 'Sol' 'Sol' 'Sol']\n"
          ]
        }
      ],
      "source": [
        "print(\"Elige 10 elementos de una lista. Cada uno con una probablidad p\")\n",
        "print(np.random.choice(['Cara', 'Sol'], size=10, p=[0.2, .8]))"
      ]
    },
    {
      "cell_type": "markdown",
      "metadata": {
        "id": "bqeptBlLA4Aa"
      },
      "source": [
        "Cada que corramos el código anterior, obtendremos valores diferentes ya que estamos generando números aleatorios.\n",
        "\n",
        "Existen casos en los que queremos números pseudoaleatorios para poder reproducir nuestros resultados. Para esto utlizamos una semilla"
      ]
    },
    {
      "cell_type": "code",
      "execution_count": 118,
      "metadata": {
        "colab": {
          "base_uri": "https://localhost:8080/"
        },
        "id": "i2cXGeUeA4Aa",
        "outputId": "de3f346b-1247-416a-a88d-dc5e72ae13cb"
      },
      "outputs": [
        {
          "output_type": "stream",
          "name": "stdout",
          "text": [
            "[[0.54340494 0.27836939]\n",
            " [0.42451759 0.84477613]]\n"
          ]
        }
      ],
      "source": [
        "# ponemos una semilla 100 para reproducibilidad\n",
        "np.random.seed(100)\n",
        "print(np.random.rand(2,2))"
      ]
    },
    {
      "cell_type": "markdown",
      "metadata": {
        "id": "cl-EUiR7A4Aa"
      },
      "source": [
        "En todo script de python, si colocamos una semilla de 100 y ejecutamos `np.random.rand(2,2)` deberíamos obtener exactamente el mismo resultado. Esto es útil porque la reproducibilidad es indispensable en investigación. O sea, queremos que otras personas sean capaces de reproducir nuestros resultados."
      ]
    },
    {
      "cell_type": "markdown",
      "metadata": {
        "id": "3r7trrCjA4Aa"
      },
      "source": [
        "---\n",
        "## Obtener valores únicos y frecuencias absolutas"
      ]
    },
    {
      "cell_type": "code",
      "execution_count": 119,
      "metadata": {
        "colab": {
          "base_uri": "https://localhost:8080/"
        },
        "id": "_NwMuBqbA4Aa",
        "outputId": "d603f11a-409d-4c8f-b40f-89fecde36337"
      },
      "outputs": [
        {
          "output_type": "execute_result",
          "data": {
            "text/plain": [
              "array([5, 8, 9, 5, 0, 0, 1, 7, 6, 9, 2, 4, 5, 2, 4, 2, 4, 7, 7, 9, 1, 7,\n",
              "       0, 6, 9, 9, 7, 6, 9, 1, 0, 1, 8, 8, 3, 9, 8, 7, 3, 6, 5, 1, 9, 3,\n",
              "       4, 8, 1, 4, 0, 3, 9, 2, 0, 4, 9, 2, 7, 7, 9, 8, 6, 9, 3, 7, 7, 4,\n",
              "       5, 9, 3, 6, 8, 0, 2, 7, 7, 9, 7, 3, 0, 8, 7, 7, 1, 1, 3, 0, 8, 6,\n",
              "       4, 5, 6, 2, 5, 7, 8, 4, 4, 7, 7, 4])"
            ]
          },
          "metadata": {},
          "execution_count": 119
        }
      ],
      "source": [
        "np.random.seed(1)\n",
        "arr_rand = np.random.randint(0, 10, size=100)\n",
        "arr_rand"
      ]
    },
    {
      "cell_type": "code",
      "execution_count": 120,
      "metadata": {
        "colab": {
          "base_uri": "https://localhost:8080/"
        },
        "id": "G_n09uT1A4Aa",
        "outputId": "df1aaf2a-1d62-4d5d-9439-fcab891eea9a"
      },
      "outputs": [
        {
          "output_type": "stream",
          "name": "stdout",
          "text": [
            "Elementos únicos:  [0 1 2 3 4 5 6 7 8 9]\n",
            "Frecuencias      : [ 9  8  7  8 11  7  8 18 10 14]\n"
          ]
        }
      ],
      "source": [
        "vals_unicos, frecuencias = np.unique(arr_rand, return_counts=True)\n",
        "print(\"Elementos únicos: \", vals_unicos)\n",
        "print(\"Frecuencias      :\", frecuencias)"
      ]
    },
    {
      "cell_type": "code",
      "execution_count": 121,
      "metadata": {
        "colab": {
          "base_uri": "https://localhost:8080/"
        },
        "id": "tHyre35ZA4Aa",
        "outputId": "02253e25-a1b3-43c4-e808-a278522d8c5c"
      },
      "outputs": [
        {
          "output_type": "execute_result",
          "data": {
            "text/plain": [
              "4294967296"
            ]
          },
          "metadata": {},
          "execution_count": 121
        }
      ],
      "source": [
        "2**32"
      ]
    },
    {
      "cell_type": "code",
      "execution_count": 121,
      "metadata": {
        "id": "C8kOOTB0A4Aa"
      },
      "outputs": [],
      "source": []
    }
  ],
  "metadata": {
    "kernelspec": {
      "display_name": "Python 3 (ipykernel)",
      "language": "python",
      "name": "python3"
    },
    "language_info": {
      "codemirror_mode": {
        "name": "ipython",
        "version": 3
      },
      "file_extension": ".py",
      "mimetype": "text/x-python",
      "name": "python",
      "nbconvert_exporter": "python",
      "pygments_lexer": "ipython3",
      "version": "3.12.3"
    },
    "colab": {
      "provenance": []
    }
  },
  "nbformat": 4,
  "nbformat_minor": 0
}